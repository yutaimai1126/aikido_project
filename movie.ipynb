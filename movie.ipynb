{
 "cells": [
  {
   "cell_type": "markdown",
   "metadata": {},
   "source": [
    "# 動画の処理"
   ]
  },
  {
   "cell_type": "markdown",
   "metadata": {},
   "source": [
    "## YouTubeの動画を保存"
   ]
  },
  {
   "cell_type": "code",
   "execution_count": 1,
   "metadata": {},
   "outputs": [
    {
     "name": "stdout",
     "output_type": "stream",
     "text": [
      "Best MP4 Format ID: 270\n",
      "Resolution: 1080p\n",
      "URL: https://manifest.googlevideo.com/api/manifest/hls_playlist/expire/1737816533/ei/daWUZ__3Jf-W1d8PxMXa-Qk/ip/133.62.255.247/id/341ce294fd59ec38/itag/270/source/youtube/requiressl/yes/ratebypass/yes/pfa/1/sgovp/clen%3D61551595%3Bdur%3D180.446%3Bgir%3Dyes%3Bitag%3D137%3Blmt%3D1724358011890886/rqh/1/hls_chunk_host/rr2---sn-xgmnpoxuopp-puhe.googlevideo.com/xpc/EgVo2aDSNQ%3D%3D/met/1737794933,/mh/pq/mm/31,29/mn/sn-xgmnpoxuopp-puhe,sn-3pm76nel/ms/au,rdu/mv/m/mvi/2/pcm2cms/yes/pl/16/rms/au,au/initcwndbps/3980000/bui/AY2Et-NGRia0jWW3QBDxikr0OmLpRUgGLfNT4roBGHn2oLJTy807Q0hwodOUtfVtWIy0Y4kGnsP5przw/spc/9kzgDc-HhdYVWua5VAQALGL13DD1ncKVuWm7KNXLyKRDopaHWY3-o1c/vprv/1/playlist_type/DVR/dover/13/txp/5432434/mt/1737794455/fvip/2/short_key/1/keepalive/yes/fexp/51326932,51335594,51353498,51371294/sparams/expire,ei,ip,id,itag,source,requiressl,ratebypass,pfa,sgovp,rqh,xpc,bui,spc,vprv,playlist_type/sig/AJfQdSswRAIgWhhWDOqwrEAnU3FG9xbYoXm3qyri7G-Q4ME8qXnnPzUCICpS6__0e8wwZIB43VHC7fDSpH8ukV6kpTg7xx92sYwO/lsparams/hls_chunk_host,met,mh,mm,mn,ms,mv,mvi,pcm2cms,pl,rms,initcwndbps/lsig/AGluJ3MwRQIgdfJiKDZ3sjJ7XrumbSyI-T5hpAWdoJ9NDH2NqbU6A5YCIQCX4Ny2Tt2T3hOvbhL4qY_GlANJ1vwi7I5eFFzgEc2XNg%3D%3D/playlist/index.m3u8\n",
      "[youtube] Extracting URL: https://www.youtube.com/watch?v=NBzilP1Z7Dg\n",
      "[youtube] NBzilP1Z7Dg: Downloading webpage\n",
      "[youtube] NBzilP1Z7Dg: Downloading tv player API JSON\n",
      "[youtube] NBzilP1Z7Dg: Downloading ios player API JSON\n",
      "[youtube] NBzilP1Z7Dg: Downloading m3u8 information\n",
      "[info] NBzilP1Z7Dg: Downloading 1 format(s): 270\n",
      "[hlsnative] Downloading m3u8 manifest\n",
      "[hlsnative] Total fragments: 36\n",
      "[download] Destination: Tensorflow/workspace/videos/Shirakawa_Ryuji/Shirakawa_Ryuji_01.mp4\n",
      "[download] 100% of   60.56MiB in 00:00:12 at 4.92MiB/s                  \n",
      "[FixupM3u8] Fixing MPEG-TS in MP4 container of \"Tensorflow/workspace/videos/Shirakawa_Ryuji/Shirakawa_Ryuji_01.mp4\"\n"
     ]
    }
   ],
   "source": [
    "import yt_dlp\n",
    "import cv2\n",
    "\n",
    "dir_name = 'Shirakawa_Ryuji'\n",
    "name = 'Shirakawa_Ryuji_01'\n",
    "output_path = f'Tensorflow/workspace/videos/{dir_name}/{name}.mp4'\n",
    "\n",
    "# 動画URL\n",
    "url = 'https://www.youtube.com/watch?v=NBzilP1Z7Dg' #合気道‐技紹介　Aikido Techniques\n",
    "\n",
    "# フォーマット情報を取得\n",
    "ydl_opts = {\n",
    "    'quiet': True,\n",
    "}\n",
    "\n",
    "with yt_dlp.YoutubeDL(ydl_opts) as ydl:\n",
    "    info_dict = ydl.extract_info(url, download=False)\n",
    "    formats = info_dict.get('formats', [])\n",
    "\n",
    "    # mp4形式のフォーマットのみをフィルタリング\n",
    "    mp4_formats = [f for f in formats if f['ext'] == 'mp4']\n",
    "\n",
    "    # 最も高画質なmp4フォーマットを選ぶ\n",
    "    highest_quality_format = max(mp4_formats, key=lambda f: f.get('height', 0))\n",
    "\n",
    "    # 高画質なフォーマットのIDを表示\n",
    "    print(f\"Best MP4 Format ID: {highest_quality_format['format_id']}\")\n",
    "    print(f\"Resolution: {highest_quality_format.get('height', 'N/A')}p\")\n",
    "    print(f\"URL: {highest_quality_format.get('url')}\")\n",
    "\n",
    "format_id = highest_quality_format['format_id']\n",
    "# yt-dlpを使って動画をダウンロード\n",
    "ydl_opts = {\n",
    "    'outtmpl': output_path,  # 保存先パス\n",
    "    'format': f'{format_id}',  # フォーマットの指定\n",
    "}\n",
    "\n",
    "with yt_dlp.YoutubeDL(ydl_opts) as ydl:\n",
    "    ydl.download([url])"
   ]
  }
 ],
 "metadata": {
  "kernelspec": {
   "display_name": ".venv",
   "language": "python",
   "name": "python3"
  },
  "language_info": {
   "codemirror_mode": {
    "name": "ipython",
    "version": 3
   },
   "file_extension": ".py",
   "mimetype": "text/x-python",
   "name": "python",
   "nbconvert_exporter": "python",
   "pygments_lexer": "ipython3",
   "version": "3.10.12"
  }
 },
 "nbformat": 4,
 "nbformat_minor": 2
}
